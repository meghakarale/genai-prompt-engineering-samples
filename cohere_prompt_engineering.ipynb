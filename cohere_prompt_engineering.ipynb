{
 "cells": [
  {
   "cell_type": "markdown",
   "id": "2e972ff7",
   "metadata": {},
   "source": [
    "# Prompt Engineering with Cohere\n",
    "This notebook demonstrates various prompt engineering strategies using the Cohere API."
   ]
  },
  {
   "cell_type": "code",
   "execution_count": null,
   "id": "cefd6a01",
   "metadata": {},
   "outputs": [],
   "source": [
    "!pip install cohere"
   ]
  },
  {
   "cell_type": "code",
   "execution_count": null,
   "id": "ee8dbfbf",
   "metadata": {},
   "outputs": [],
   "source": [
    "import cohere\n",
    "import os\n",
    "\n",
    "co = cohere.Client(os.getenv(\"COHERE_API_KEY\"))"
   ]
  },
  {
   "cell_type": "markdown",
   "id": "9fc94e4e",
   "metadata": {},
   "source": [
    "### Zero-shot Prompt Example"
   ]
  },
  {
   "cell_type": "code",
   "execution_count": null,
   "id": "6fc4cd37",
   "metadata": {},
   "outputs": [],
   "source": [
    "response = co.generate(\n",
    "    model='command-r-plus',\n",
    "    prompt='Suggest 3 innovative AI use cases in healthcare.',\n",
    "    max_tokens=100\n",
    ")\n",
    "print(response.generations[0].text.strip())"
   ]
  }
 ],
 "metadata": {},
 "nbformat": 4,
 "nbformat_minor": 5
}
