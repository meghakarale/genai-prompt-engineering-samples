{
 "cells": [
  {
   "cell_type": "markdown",
   "id": "78a22b51",
   "metadata": {},
   "source": [
    "# Prompt Engineering with OpenAI (GPT-4)"
   ]
  },
  {
   "cell_type": "code",
   "execution_count": null,
   "id": "a22b2e88",
   "metadata": {},
   "outputs": [],
   "source": [
    "!pip install openai"
   ]
  },
  {
   "cell_type": "code",
   "execution_count": null,
   "id": "936282e5",
   "metadata": {},
   "outputs": [],
   "source": [
    "import openai\n",
    "import os\n",
    "\n",
    "openai.api_key = os.getenv(\"OPENAI_API_KEY\")"
   ]
  },
  {
   "cell_type": "markdown",
   "id": "37bb1336",
   "metadata": {},
   "source": [
    "### Few-shot Prompt Example"
   ]
  },
  {
   "cell_type": "code",
   "execution_count": null,
   "id": "4fc97490",
   "metadata": {},
   "outputs": [],
   "source": [
    "messages = [\n",
    "    {\"role\": \"system\", \"content\": \"You are a helpful assistant that suggests SQL queries.\"},\n",
    "    {\"role\": \"user\", \"content\": \"How to get the average sales per region?\"}\n",
    "]\n",
    "response = openai.ChatCompletion.create(\n",
    "    model=\"gpt-4\",\n",
    "    messages=messages\n",
    ")\n",
    "print(response.choices[0].message['content'].strip())"
   ]
  }
 ],
 "metadata": {},
 "nbformat": 4,
 "nbformat_minor": 5
}
