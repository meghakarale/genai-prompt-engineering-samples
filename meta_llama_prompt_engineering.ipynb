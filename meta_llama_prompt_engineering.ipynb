{
 "cells": [
  {
   "cell_type": "markdown",
   "id": "da88e992",
   "metadata": {},
   "source": [
    "# 🦙 Prompt Engineering with Meta LLaMA (via Hugging Face)"
   ]
  },
  {
   "cell_type": "code",
   "execution_count": null,
   "id": "c1933aa0",
   "metadata": {},
   "outputs": [],
   "source": [
    "!pip install transformers accelerate"
   ]
  },
  {
   "cell_type": "code",
   "execution_count": null,
   "id": "f4321044",
   "metadata": {},
   "outputs": [],
   "source": [
    "from transformers import AutoTokenizer, AutoModelForCausalLM, pipeline\n",
    "\n",
    "model_id = \"meta-llama/Llama-2-7b-chat-hf\"\n",
    "tokenizer = AutoTokenizer.from_pretrained(model_id)\n",
    "model = AutoModelForCausalLM.from_pretrained(model_id)\n",
    "\n",
    "llama_pipe = pipeline(\"text-generation\", model=model, tokenizer=tokenizer)"
   ]
  },
  {
   "cell_type": "markdown",
   "id": "f1bcd427",
   "metadata": {},
   "source": [
    "### Structured Prompt Example"
   ]
  },
  {
   "cell_type": "code",
   "execution_count": null,
   "id": "3ee3abe5",
   "metadata": {},
   "outputs": [],
   "source": [
    "prompt = \"\"\"\n",
    "You are a technical content generator. Provide a structured JSON response with fields: topic, summary, difficulty.\n",
    "\n",
    "Topic: Generative AI\n",
    "\"\"\"\n",
    "\n",
    "output = llama_pipe(prompt, max_new_tokens=100)[0]['generated_text']\n",
    "print(output.strip())"
   ]
  }
 ],
 "metadata": {},
 "nbformat": 4,
 "nbformat_minor": 5
}
